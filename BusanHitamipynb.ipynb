{
  "nbformat": 4,
  "nbformat_minor": 0,
  "metadata": {
    "colab": {
      "provenance": []
    },
    "kernelspec": {
      "name": "python3",
      "display_name": "Python 3"
    },
    "language_info": {
      "name": "python"
    }
  },
  "cells": [
    {
      "cell_type": "code",
      "execution_count": null,
      "metadata": {
        "id": "1nA40Phc7aRM",
        "colab": {
          "base_uri": "https://localhost:8080/"
        },
        "outputId": "b53c312d-34bf-4d84-eaed-1e07cc56537a"
      },
      "outputs": [
        {
          "output_type": "stream",
          "name": "stdout",
          "text": [
            "F1 Score (Validation Set): 0.8928270042194092\n",
            "              precision    recall  f1-score   support\n",
            "\n",
            "           0       0.89      0.91      0.90      1830\n",
            "           1       0.90      0.88      0.89      1798\n",
            "\n",
            "    accuracy                           0.89      3628\n",
            "   macro avg       0.90      0.89      0.89      3628\n",
            "weighted avg       0.90      0.89      0.89      3628\n",
            "\n"
          ]
        },
        {
          "output_type": "display_data",
          "data": {
            "text/plain": [
              "<Figure size 640x480 with 2 Axes>"
            ],
            "image/png": "[encoded data removed]"
          },
          "metadata": {}
        },
        {
          "output_type": "stream",
          "name": "stdout",
          "text": [
            "Submission file created: 'submission.csv'\n"
          ]
        }
      ],
      "source": [
        "import numpy as np\n",
        "import pandas as pd\n",
        "import matplotlib.pyplot as plt\n",
        "from sklearn.model_selection import train_test_split, RandomizedSearchCV\n",
        "from sklearn.preprocessing import StandardScaler\n",
        "from sklearn.metrics import classification_report, ConfusionMatrixDisplay, f1_score\n",
        "from sklearn.ensemble import RandomForestClassifier\n",
        "from imblearn.over_sampling import SMOTE\n",
        "import warnings\n",
        "from scipy.stats import randint, uniform\n",
        "\n",
        "warnings.filterwarnings(\"ignore\")\n",
        "%matplotlib inline\n",
        "\n",
        "# Baca data\n",
        "train = pd.read_csv('train.csv')\n",
        "test = pd.read_csv('test.csv')\n",
        "\n",
        "# Preprocessing\n",
        "train.columns = train.columns.str.strip().str.replace(' ', '')\n",
        "train[\"income\"] = train[\"income\"].str.strip()\n",
        "test.columns = test.columns.str.strip().str.replace(' ', '')\n",
        "\n",
        "train = train.replace('?', np.nan)\n",
        "test = test.replace('?', np.nan)\n",
        "train.dropna(inplace=True)\n",
        "\n",
        "cat_columns = ['KelasPekerjaan', 'Pendidikan', 'JenjangPendidikan', 'Status', 'Pekerjaan', 'Hubungan', 'Etnis', 'sex', 'AsalNegara']\n",
        "df_dumy_train = pd.get_dummies(train, columns=cat_columns)\n",
        "df_dumy_test = pd.get_dummies(test, columns=cat_columns)\n",
        "\n",
        "df_dumy_test = df_dumy_test.reindex(columns=df_dumy_train.columns, fill_value=0)\n",
        "\n",
        "X = df_dumy_train.drop(\"income\", axis=1)\n",
        "y = df_dumy_train[\"income\"].apply(lambda x: 1 if x == '>50K' else 0)\n",
        "\n",
        "# Oversampling dengan SMOTE\n",
        "smote = SMOTE(random_state=42)\n",
        "X_smote, y_smote = smote.fit_resample(X, y)\n",
        "\n",
        "# Membagi data\n",
        "X_train, X_val, y_train, y_val = train_test_split(X_smote, y_smote, test_size=0.1, random_state=101)\n",
        "\n",
        "# Scaling fitur\n",
        "scaler = StandardScaler()\n",
        "scaled_X_train = scaler.fit_transform(X_train)\n",
        "scaled_X_val = scaler.transform(X_val)\n",
        "scaled_X_test = scaler.transform(df_dumy_test.drop(\"income\", axis=1, errors='ignore'))\n",
        "\n",
        "# Tuning Hyperparameter dengan RandomizedSearchCV untuk RandomForestClassifier\n",
        "rf = RandomForestClassifier(random_state=42)\n",
        "param_dist_rf = {\n",
        "    'n_estimators': randint(100, 500),\n",
        "    'max_features': ['auto', 'sqrt', 'log2'],\n",
        "    'max_depth': randint(10, 100),\n",
        "    'min_samples_split': randint(2, 20),\n",
        "    'min_samples_leaf': randint(1, 20),\n",
        "    'bootstrap': [True, False]\n",
        "}\n",
        "random_search_rf = RandomizedSearchCV(rf, param_distributions=param_dist_rf, n_iter=100, cv=5, random_state=42, n_jobs=-1)\n",
        "random_search_rf.fit(scaled_X_train, y_train)\n",
        "best_rf = random_search_rf.best_estimator_\n",
        "\n",
        "# Evaluasi performa model pada validation set\n",
        "val_predictions = best_rf.predict(scaled_X_val)\n",
        "print(\"F1 Score (Validation Set):\", f1_score(y_val, val_predictions))\n",
        "print(classification_report(y_val, val_predictions))\n",
        "\n",
        "ConfusionMatrixDisplay.from_estimator(best_rf, scaled_X_val, y_val)\n",
        "plt.show()\n",
        "\n",
        "# Prediksi pada data test\n",
        "test_predictions = best_rf.predict(scaled_X_test)\n",
        "\n",
        "# Buat DataFrame untuk submission\n",
        "submission = pd.DataFrame({\n",
        "    'ID': test['ID'],\n",
        "    'income': ['1' if pred == 1 else 0 for pred in test_predictions]\n",
        "})\n",
        "\n",
        "submission['income'] = submission['income'].fillna('')\n",
        "submission.to_csv('submission.csv', index=False)\n",
        "print(\"Submission file created: 'submission.csv'\")\n"
      ]
    }
  ]
}